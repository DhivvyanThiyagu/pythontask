{
  "nbformat": 4,
  "nbformat_minor": 0,
  "metadata": {
    "colab": {
      "provenance": []
    },
    "kernelspec": {
      "name": "python3",
      "display_name": "Python 3"
    },
    "language_info": {
      "name": "python"
    }
  },
  "cells": [
    {
      "cell_type": "code",
      "source": [
        "#@title 1.Write a program to find out the prime numbers"
      ],
      "metadata": {
        "id": "yz9oUX514uXk"
      },
      "execution_count": null,
      "outputs": []
    },
    {
      "cell_type": "code",
      "source": [
        "prime_num=int(input(\"Enter the number: \"))\n",
        "for i in range(2,prime_num):\n",
        "  if (prime_num%i)==0:\n",
        "    print(\"Not a prime number\")\n",
        "    break\n",
        "  else:\n",
        "    print(\"Entered number is Prime Number\")\n",
        "    break"
      ],
      "metadata": {
        "id": "5DUu8mv240o-",
        "colab": {
          "base_uri": "https://localhost:8080/"
        },
        "outputId": "62164664-6e31-4d77-ded0-8c298b2cc299"
      },
      "execution_count": null,
      "outputs": [
        {
          "output_type": "stream",
          "name": "stdout",
          "text": [
            "Enter the number: 23\n",
            "Entered number is Prime Number\n"
          ]
        }
      ]
    },
    {
      "cell_type": "code",
      "execution_count": null,
      "metadata": {
        "id": "AA0FY6GIbQmN"
      },
      "outputs": [],
      "source": [
        "#@title 2.write a program to create the equation (a+b+c) *  (a-b-c) * ab + a^2 + b ^2 + (abc)^3\n"
      ]
    },
    {
      "cell_type": "code",
      "source": [
        "a,b,c=map(int,input().split())\n",
        "equation=(((a+b+c)*(a-b-c)*(a*b))+(a**2)+(b**2)+((a*b*c)**3))\n",
        "print(equation)\n"
      ],
      "metadata": {
        "colab": {
          "base_uri": "https://localhost:8080/"
        },
        "id": "RasxEul_bhlj",
        "outputId": "2f3cdaad-4b15-469d-8089-090de9d58083"
      },
      "execution_count": null,
      "outputs": [
        {
          "output_type": "stream",
          "name": "stdout",
          "text": [
            "1 2 3\n",
            "173\n"
          ]
        }
      ]
    },
    {
      "cell_type": "code",
      "source": [
        "#@title 3. urlist = ['wood','knife','axe'] , mylist = ['tree', 'apple', 'mango', 'melon'] – combine two lists"
      ],
      "metadata": {
        "id": "r7pFAXA7cEVK"
      },
      "execution_count": null,
      "outputs": []
    },
    {
      "cell_type": "code",
      "source": [
        "urlist = ['wood','knife','axe'] \n",
        "mylist = ['tree', 'apple', 'mango', 'melon'] \n",
        "new_list=urlist+mylist\n",
        "print(new_list)"
      ],
      "metadata": {
        "colab": {
          "base_uri": "https://localhost:8080/"
        },
        "id": "Gy_eN4gMcYqr",
        "outputId": "4f7c32e2-8311-4988-ecdc-ddf81e400585"
      },
      "execution_count": null,
      "outputs": [
        {
          "output_type": "stream",
          "name": "stdout",
          "text": [
            "['wood', 'knife', 'axe', 'tree', 'apple', 'mango', 'melon']\n"
          ]
        }
      ]
    },
    {
      "cell_type": "code",
      "source": [
        "#@title 4.write a program for natural number based on user input"
      ],
      "metadata": {
        "id": "UzqQmbndclB_"
      },
      "execution_count": null,
      "outputs": []
    },
    {
      "cell_type": "code",
      "source": [
        "user_input=int(input())\n",
        "for i in range(1,user_input+1):\n",
        "  print(i)"
      ],
      "metadata": {
        "colab": {
          "base_uri": "https://localhost:8080/"
        },
        "id": "Kq6qreyRcsoK",
        "outputId": "2618584e-adbf-4d86-f86f-330de55fa9de"
      },
      "execution_count": null,
      "outputs": [
        {
          "output_type": "stream",
          "name": "stdout",
          "text": [
            "10\n",
            "1\n",
            "2\n",
            "3\n",
            "4\n",
            "5\n",
            "6\n",
            "7\n",
            "8\n",
            "9\n",
            "10\n"
          ]
        }
      ]
    },
    {
      "cell_type": "code",
      "source": [
        "#@title 5.write class and function for the equation sqrt(x1-x2) ^ 2 + sqrt( y1 – y2 ) ^2 using try except h"
      ],
      "metadata": {
        "id": "O4KhSVjgvmNk"
      },
      "execution_count": null,
      "outputs": []
    },
    {
      "cell_type": "code",
      "source": [
        "try:\n",
        "  x1,x2=map(int,input().split(\",\"))\n",
        "  y1,y2=map(int,input().split(\",\"))\n",
        "  def distance(x1, y1, x2, y2):\n",
        "    return (((x2 - x1)**2 +(y2 - y1)**2)**0.5)\n",
        "  print(distance(x1, x2, y1, y2 ))\n",
        "  \n",
        "except ValueError:\n",
        "  print(\"enter a integer\")"
      ],
      "metadata": {
        "id": "Jd11eR-4vvJx"
      },
      "execution_count": null,
      "outputs": []
    },
    {
      "cell_type": "code",
      "source": [
        "#@title 6. Name  = “Guvi python”  - write a program to get “python” word from the string"
      ],
      "metadata": {
        "id": "1Vxyd-zldNA-"
      },
      "execution_count": null,
      "outputs": []
    },
    {
      "cell_type": "code",
      "source": [
        "Name=\"Guvi python\"\n",
        "l=list((Name.split()))\n",
        "\n",
        "print(l[1])\n"
      ],
      "metadata": {
        "colab": {
          "base_uri": "https://localhost:8080/"
        },
        "id": "_EX5Noh2d8ie",
        "outputId": "b946ae51-c196-411a-cbf0-a591e59ff1f5"
      },
      "execution_count": null,
      "outputs": [
        {
          "output_type": "stream",
          "name": "stdout",
          "text": [
            "python\n"
          ]
        }
      ]
    },
    {
      "cell_type": "code",
      "source": [
        "#@title 7.Using class and function - Write a program for palindrome Ex. Madam"
      ],
      "metadata": {
        "id": "9ZLFpeXJ2fSJ"
      },
      "execution_count": null,
      "outputs": []
    },
    {
      "cell_type": "code",
      "source": [
        "def palindrome():\n",
        "    string = list(input())\n",
        "    revstring = []\n",
        "    for i in string[::-1]:\n",
        "        revstring.append(i)\n",
        "\n",
        "    if string == (revstring):\n",
        "        print(\"palindrome\")\n",
        "    else:\n",
        "        print(\"not a palindromeqw\")\n",
        "palindrome()\n"
      ],
      "metadata": {
        "colab": {
          "base_uri": "https://localhost:8080/"
        },
        "id": "AspgWPov2kW3",
        "outputId": "ca8e383b-0d44-47ed-adbd-cf3b1d2be60c"
      },
      "execution_count": null,
      "outputs": [
        {
          "output_type": "stream",
          "name": "stdout",
          "text": [
            "madam\n",
            "palindrome\n"
          ]
        }
      ]
    },
    {
      "cell_type": "code",
      "source": [
        "#@title 8.using file handling – write a text file in ur system with “hello world”"
      ],
      "metadata": {
        "id": "I18Ed4BH0YxV"
      },
      "execution_count": null,
      "outputs": []
    },
    {
      "cell_type": "code",
      "source": [
        "#X1=open(\"myfile\",\"x\")\n",
        "x1=open(\"myfile\",\"a\")#if fileexists\n",
        "x1.write(\"hellow world\")\n",
        "x1.close\n",
        "\n",
        "y1=open(\"myfile\",\"r\")\n",
        "print(y1)"
      ],
      "metadata": {
        "colab": {
          "base_uri": "https://localhost:8080/"
        },
        "id": "oowdFIUA0b-f",
        "outputId": "c2794f43-7e9d-421f-d31c-46b5793c2d8b"
      },
      "execution_count": null,
      "outputs": [
        {
          "output_type": "stream",
          "name": "stdout",
          "text": [
            "<_io.TextIOWrapper name='myfile' mode='r' encoding='UTF-8'>\n"
          ]
        }
      ]
    },
    {
      "cell_type": "code",
      "source": [
        "#@title 9.create option button using tkinter GUI in python"
      ],
      "metadata": {
        "id": "jEmqJLUYeGJ3"
      },
      "execution_count": null,
      "outputs": []
    },
    {
      "cell_type": "code",
      "source": [
        "!apt-get install -y xvfb # Install X Virtual Frame Buffer\n",
        "import os\n",
        "os.system('Xvfb :1 -screen 0 1600x1200x16  &')    # create virtual display with size 1600x1200 and 16 bit color. Color can be changed to 24 or 8\n",
        "os.environ['DISPLAY']=':1.0'"
      ],
      "metadata": {
        "colab": {
          "base_uri": "https://localhost:8080/"
        },
        "id": "On1muU4295fZ",
        "outputId": "fa39fa64-37ed-44b4-8694-207519e8c1ed"
      },
      "execution_count": null,
      "outputs": [
        {
          "output_type": "stream",
          "name": "stdout",
          "text": [
            "Reading package lists... Done\n",
            "Building dependency tree       \n",
            "Reading state information... Done\n",
            "The following package was automatically installed and is no longer required:\n",
            "  libnvidia-common-460\n",
            "Use 'apt autoremove' to remove it.\n",
            "The following NEW packages will be installed:\n",
            "  xvfb\n",
            "0 upgraded, 1 newly installed, 0 to remove and 20 not upgraded.\n",
            "Need to get 785 kB of archives.\n",
            "After this operation, 2,271 kB of additional disk space will be used.\n",
            "Get:1 http://archive.ubuntu.com/ubuntu bionic-updates/universe amd64 xvfb amd64 2:1.19.6-1ubuntu4.12 [785 kB]\n",
            "Fetched 785 kB in 0s (2,323 kB/s)\n",
            "Selecting previously unselected package xvfb.\n",
            "(Reading database ... 124013 files and directories currently installed.)\n",
            "Preparing to unpack .../xvfb_2%3a1.19.6-1ubuntu4.12_amd64.deb ...\n",
            "Unpacking xvfb (2:1.19.6-1ubuntu4.12) ...\n",
            "Setting up xvfb (2:1.19.6-1ubuntu4.12) ...\n",
            "Processing triggers for man-db (2.8.3-2ubuntu0.1) ...\n"
          ]
        }
      ]
    },
    {
      "cell_type": "code",
      "source": [
        "import tkinter\n",
        "x=tkinter.Tk()\n",
        "x.geometry(\"200x200\")\n",
        "b=tkinter.Button(x,text=\"option\")\n",
        "b.pack()\n",
        "x.mainloop()"
      ],
      "metadata": {
        "id": "duo0lXQxr83O"
      },
      "execution_count": null,
      "outputs": []
    },
    {
      "cell_type": "code",
      "source": [
        "#@title 10.Keep only numbers from the following string x = “ 89e9jcd^o38829@3%3,/mkl$w1”"
      ],
      "metadata": {
        "id": "5B7XnNuN4qct"
      },
      "execution_count": null,
      "outputs": []
    },
    {
      "cell_type": "code",
      "source": [
        "x=\"89e9jcd^o38829@3%3,/mkl$w1\"\n",
        "y=[]\n",
        "for i in x:\n",
        "    if i.isdigit():\n",
        "        y.append(i)\n",
        "print(*y)"
      ],
      "metadata": {
        "id": "YMMMb7Gg4rsV",
        "colab": {
          "base_uri": "https://localhost:8080/"
        },
        "outputId": "fd7a139f-33c0-496c-efe7-925b521456b8"
      },
      "execution_count": null,
      "outputs": [
        {
          "output_type": "stream",
          "name": "stdout",
          "text": [
            "8 9 9 3 8 8 2 9 3 3 1\n"
          ]
        }
      ]
    },
    {
      "cell_type": "code",
      "source": [],
      "metadata": {
        "id": "IYR5Q1nOy3I7"
      },
      "execution_count": null,
      "outputs": []
    }
  ]
}